{
 "cells": [
  {
   "cell_type": "code",
   "execution_count": 1,
   "metadata": {},
   "outputs": [],
   "source": [
    "from biblioteca_api import APIAula3Client"
   ]
  },
  {
   "cell_type": "code",
   "execution_count": 2,
   "metadata": {},
   "outputs": [],
   "source": [
    "client = APIAula3Client(base_url='http://localhost:8000', api_token=123)"
   ]
  },
  {
   "cell_type": "code",
   "execution_count": 3,
   "metadata": {},
   "outputs": [
    {
     "data": {
      "text/plain": [
       "'Deu certo'"
      ]
     },
     "execution_count": 3,
     "metadata": {},
     "output_type": "execute_result"
    }
   ],
   "source": [
    "client.teste()"
   ]
  },
  {
   "cell_type": "code",
   "execution_count": 4,
   "metadata": {},
   "outputs": [
    {
     "data": {
      "text/plain": [
       "5"
      ]
     },
     "execution_count": 4,
     "metadata": {},
     "output_type": "execute_result"
    }
   ],
   "source": [
    "client.soma_v3(numero1=2, numero2=3)"
   ]
  },
  {
   "cell_type": "code",
   "execution_count": 5,
   "metadata": {},
   "outputs": [
    {
     "data": {
      "text/plain": [
       "'**O Dia do Grande Teste**\\n\\nEra uma manhã de primavera, quando os alunos da escola secundária \"Horizonte\" se preparavam para enfrentar o mais importante desafio do ano: o teste final.\\n\\nA tensão estava no ar, e todos sabiam que este seria um dia que definiria o sucesso ou o fracasso de seu ano letivo. Alguns estudantes estavam apreensivos, outros calmos e confiantes.\\n\\nJá era meia manhã quando os alunos se dirigiam para a sala de aula onde seria realizado o teste. A professora, a Dra. Santos, os recebeu com um sorriso empolado.\\n\\n\"Boa sorte a todos!\", disse ela, enquanto distribuía os materiais necessários.\\n\\nO teste consistia em três provas: química, física e matemática. Cada aluno tinha que responder a 50 perguntas de cada área, e o tempo total de prova era de três horas.\\n\\nO primeiro aluno a começar foi o Tiago, que rapidamente embarcou no seu trabalho. Ele sabia que era importante começar cedo para ter tempo de responder a todas as perguntas.\\n\\nEnquanto Tiago trabalhava, os outros alunos começaram a entrar em ritmo. Alguns estavam mais animados e rápido, enquanto outros pareciam mais preocupados e perdidos.\\n\\nO professor, o Sr. Lima, estava sentado em uma mesa no fundo da sala, observando os alunos com atenção. Ele sabia que alguns deles estavam passando além da curva, enquanto outros estavam em grande dificuldade.\\n\\nMeia hora antes do tempo de prova acabar, a Dra. Santos anunciou que restavam 15 minutos para responder as últimas perguntas. O ambiente da sala mudou imediatamente. Os alunos começaram a acelerar, respondendo às perguntas da melhor maneira possível.\\n\\nQuando o tempo de prova acabou, os alunos foram autorizados a sair da sala e ir encontrar o Sr. Lima para devolver os materiais.\\n\\n Ao sair da sala, os alunos estavam exaustos, mas satisfeitos por terem encarado o desafio. Tiago, que havia começado a prova rápida, estava no centro da sala, sem saber que o Sr. Lima lhe havia dado uma surpresa.\\n\\n\"Tiago! Você é o primeiro a terminar a prova! Você tem a chance de ganhar um prêmio especial!\"\\n\\nO ambiente da sala mudou de novo. Os outros alunos começaram a tirar fotos com Tiago, celebrando a sua vitória.\\n\\nA Dra. Santos e o Sr. Lima se aproximaram deles, sorrindo.\\n\\n\"Peço a todos que saiam do aula e voltem no final da semana para saberem os resultados do teste. Trabalhadinha, guys!\", disse a Dra. Santos.\\n\\nE assim o dia do grande teste chegou ao fim. Cada aluno havia dado tudo de si, e agora aguardava ansiosamente os resultados. Mas não importava se Tiago ou outro aluno havia ganhado o prêmio, todos sabiam que chegaram ao limite, criaram seu próprio limiar de superação com suas ações.'"
      ]
     },
     "execution_count": 5,
     "metadata": {},
     "output_type": "execute_result"
    }
   ],
   "source": [
    "client.gerar_historia(tema=\"Teste\")"
   ]
  },
  {
   "cell_type": "code",
   "execution_count": null,
   "metadata": {},
   "outputs": [],
   "source": []
  }
 ],
 "metadata": {
  "kernelspec": {
   "display_name": "venv",
   "language": "python",
   "name": "python3"
  },
  "language_info": {
   "codemirror_mode": {
    "name": "ipython",
    "version": 3
   },
   "file_extension": ".py",
   "mimetype": "text/x-python",
   "name": "python",
   "nbconvert_exporter": "python",
   "pygments_lexer": "ipython3",
   "version": "3.11.5"
  }
 },
 "nbformat": 4,
 "nbformat_minor": 2
}
